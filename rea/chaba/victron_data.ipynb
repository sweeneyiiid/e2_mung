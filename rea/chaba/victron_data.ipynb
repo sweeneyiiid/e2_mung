{
 "cells": [
  {
   "cell_type": "markdown",
   "id": "857aa851",
   "metadata": {},
   "source": [
    "# Preparing Victron data for dashboards\n",
    "\n",
    "Based on the [Victron API](https://docs.victronenergy.com/vrmapi/overview.html)\n",
    "\n",
    "***include in documentation the things you only have to do once***"
   ]
  },
  {
   "cell_type": "code",
   "execution_count": null,
   "id": "b6c9c26f",
   "metadata": {},
   "outputs": [],
   "source": [
    "import support_functions as s\n",
    "import pandas as pd\n",
    "import sqlite3"
   ]
  },
  {
   "cell_type": "code",
   "execution_count": null,
   "id": "908ec062",
   "metadata": {},
   "outputs": [],
   "source": [
    "db_path = \"C:/Users/reeep/OneDrive/Desktop/e2_cleanup/esp_db/victron_db.db\"\n",
    "conn = sqlite3.connect(db_path)"
   ]
  },
  {
   "cell_type": "code",
   "execution_count": null,
   "id": "8d2535b8",
   "metadata": {},
   "outputs": [],
   "source": [
    "# TO SET UP THE DB (ONLY ONCE)\n",
    "#setup_db(conn)"
   ]
  },
  {
   "cell_type": "code",
   "execution_count": null,
   "id": "52299eb0",
   "metadata": {},
   "outputs": [],
   "source": [
    "creds = s.get_token('dlswee@gmail.com','')"
   ]
  },
  {
   "cell_type": "code",
   "execution_count": null,
   "id": "41325a9c",
   "metadata": {},
   "outputs": [],
   "source": [
    "dates = pd.date_range('2022-08-01','2022-11-01',4)"
   ]
  },
  {
   "cell_type": "code",
   "execution_count": null,
   "id": "7256ec1b",
   "metadata": {},
   "outputs": [],
   "source": [
    "# get statis table for minigrid name and location\n",
    "\n",
    "sites = s.get_basics(creds['token'],creds['user_id'])\n",
    "\n",
    "site_info = []\n",
    "\n",
    "for site in sites:\n",
    "    site_dict = {}\n",
    "    site_dict['name'] = site['name'] \n",
    "    site_dict['id'] = site['idSite'] \n",
    "    for val in site['extended']:\n",
    "        if val['description'] in ['Latitude','Longitude']:\n",
    "            site_dict[val['description']] = val['rawValue']\n",
    "\n",
    "    site_info.append(site_dict)\n",
    "    \n",
    "df_mg_data = pd.DataFrame(site_info)\n",
    "df_mg_data.to_csv('minigrid_location.csv', index=False)"
   ]
  },
  {
   "cell_type": "code",
   "execution_count": null,
   "id": "e93c5fbe",
   "metadata": {},
   "outputs": [],
   "source": [
    "# Get metrics by site and date range\n",
    "\n",
    "#in epoch format, make sure they are both on the top of the hour\n",
    "#NOTE: you can only pull up to 30 days at oncedates = pd.date_range('2022-06-01','2022-10-01',5)\n",
    "\n",
    "for site in sites:\n",
    "    for i in range(len(dates)-1):\n",
    "        s.get_raw(creds['token'], \n",
    "                  site['idSite'], \n",
    "                  conn, \n",
    "                  int(dates[i].asm8.astype('int64')/1000000000), \n",
    "                  int(dates[i+1].asm8.astype('int64')/1000000000))\n",
    "        print(site['name'] + ' : ' +str(site['idSite']) + ' : ' + str(dates[i+1]))"
   ]
  },
  {
   "cell_type": "code",
   "execution_count": null,
   "id": "32b1b66e",
   "metadata": {},
   "outputs": [],
   "source": [
    "# Update main metrics table, including de-duplicating records\n",
    "s.update_ssot(conn)"
   ]
  },
  {
   "cell_type": "code",
   "execution_count": null,
   "id": "5cb8d5b7",
   "metadata": {},
   "outputs": [],
   "source": [
    "df_ssot = pd.read_sql('select * from ssot', conn, parse_dates=['reading_time'])"
   ]
  },
  {
   "cell_type": "code",
   "execution_count": null,
   "id": "bc90734a",
   "metadata": {},
   "outputs": [],
   "source": [
    "conn.close()"
   ]
  },
  {
   "cell_type": "code",
   "execution_count": null,
   "id": "679553c7",
   "metadata": {},
   "outputs": [],
   "source": [
    "df_ssot.to_csv('C:/Users/reeep/OneDrive/Desktop/minigrid_readings_20221016.csv', index=False)"
   ]
  },
  {
   "cell_type": "code",
   "execution_count": null,
   "id": "c2a29019",
   "metadata": {},
   "outputs": [],
   "source": []
  }
 ],
 "metadata": {
  "kernelspec": {
   "display_name": "Python 3 (ipykernel)",
   "language": "python",
   "name": "python3"
  },
  "language_info": {
   "codemirror_mode": {
    "name": "ipython",
    "version": 3
   },
   "file_extension": ".py",
   "mimetype": "text/x-python",
   "name": "python",
   "nbconvert_exporter": "python",
   "pygments_lexer": "ipython3",
   "version": "3.9.12"
  }
 },
 "nbformat": 4,
 "nbformat_minor": 5
}
