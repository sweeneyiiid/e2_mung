{
 "cells": [
  {
   "cell_type": "markdown",
   "id": "857aa851",
   "metadata": {},
   "source": [
    "# Preparing Victron data for dashboards\n",
    "\n",
    "Based on the [Victron API](https://docs.victronenergy.com/vrmapi/overview.html)\n",
    "\n",
    "***include in documentation the things you only have to do once***"
   ]
  },
  {
   "cell_type": "code",
   "execution_count": null,
   "id": "b6c9c26f",
   "metadata": {},
   "outputs": [],
   "source": [
    "import support_functions as s\n",
    "import pandas as pd\n",
    "import sqlite3"
   ]
  },
  {
   "cell_type": "code",
   "execution_count": null,
   "id": "be38cb97",
   "metadata": {},
   "outputs": [],
   "source": [
    "db_path = \"C:/Users/reeep/OneDrive/Desktop/e2_cleanup/esp_db/victron_db.db\"\n",
    "conn = sqlite3.connect(db_path)"
   ]
  },
  {
   "cell_type": "code",
   "execution_count": null,
   "id": "204cabf4",
   "metadata": {},
   "outputs": [],
   "source": [
    "# TO SET UP THE DB (ONLY ONCE)\n",
    "#setup_db(conn)"
   ]
  },
  {
   "cell_type": "code",
   "execution_count": null,
   "id": "52299eb0",
   "metadata": {},
   "outputs": [],
   "source": [
    "creds = s.get_token('dlswee@gmail.com','')"
   ]
  },
  {
   "cell_type": "code",
   "execution_count": null,
   "id": "d75852b6",
   "metadata": {},
   "outputs": [],
   "source": [
    "creds"
   ]
  },
  {
   "cell_type": "code",
   "execution_count": null,
   "id": "9e573b52",
   "metadata": {},
   "outputs": [],
   "source": [
    "sites = s.get_basics(creds['token'],creds['user_id'])"
   ]
  },
  {
   "cell_type": "code",
   "execution_count": null,
   "id": "28947514",
   "metadata": {},
   "outputs": [],
   "source": [
    "sites"
   ]
  },
  {
   "cell_type": "code",
   "execution_count": null,
   "id": "25cba216",
   "metadata": {},
   "outputs": [],
   "source": [
    "for site in sites:\n",
    "    to_print = '\\n'+ site['name'] + '\\n' + str(site['idSite']) + '\\n' \n",
    "    for val in site['extended']:\n",
    "        if val['description'] in ['Latitude','Longitude']:\n",
    "            to_print = to_print + str(val['description']) + ' : ' + str(val['rawValue']) + '\\n'\n",
    "\n",
    "    print(to_print)"
   ]
  },
  {
   "cell_type": "code",
   "execution_count": null,
   "id": "3b62aac5",
   "metadata": {},
   "outputs": [],
   "source": [
    "# hand jam table for minigrid data\n",
    "df_mg_data = pd.DataFrame({'mg_id':[125796], 'mg_name':['Chaba Minigrid'], 'lat':[-10.978], 'lon':[30.0882]})\n",
    "df_mg_data.to_csv('minigrid_location.csv', index=False)"
   ]
  },
  {
   "cell_type": "code",
   "execution_count": null,
   "id": "f8727a5f",
   "metadata": {},
   "outputs": [],
   "source": [
    "\n",
    "#site ID from step 2\n",
    "mg_site = 125796\n",
    "\n",
    "#in epoch format, make sure they are both on the top of the hour\n",
    "#NOTE: you can only pull up to 30 days at once\n",
    "start_param = 1663826400 #2022-09-22 0600Z\n",
    "end_param = 1663851600 #2022-09-22 1300Z\n",
    "\n",
    "#pandas has something like date_range that could help chunk out into 30 day bits\n",
    "\n",
    "s.get_raw(creds['token'], mg_site, conn, start_param, end_param)\n"
   ]
  },
  {
   "cell_type": "code",
   "execution_count": null,
   "id": "91128274",
   "metadata": {},
   "outputs": [],
   "source": [
    "s.update_ssot(conn)"
   ]
  },
  {
   "cell_type": "code",
   "execution_count": null,
   "id": "91f5188d",
   "metadata": {},
   "outputs": [],
   "source": [
    "df_ssot = pd.read_sql('select * from ssot', conn, parse_dates=['reading_time'])"
   ]
  },
  {
   "cell_type": "code",
   "execution_count": null,
   "id": "666aca28",
   "metadata": {},
   "outputs": [],
   "source": [
    "df_ssot"
   ]
  },
  {
   "cell_type": "code",
   "execution_count": null,
   "id": "8e51c89a",
   "metadata": {},
   "outputs": [],
   "source": [
    "conn.close()"
   ]
  },
  {
   "cell_type": "code",
   "execution_count": null,
   "id": "95d7cabe",
   "metadata": {},
   "outputs": [],
   "source": [
    "df_ssot.to_csv('minigrid_readings.csv', index=False)"
   ]
  }
 ],
 "metadata": {
  "kernelspec": {
   "display_name": "Python 3 (ipykernel)",
   "language": "python",
   "name": "python3"
  },
  "language_info": {
   "codemirror_mode": {
    "name": "ipython",
    "version": 3
   },
   "file_extension": ".py",
   "mimetype": "text/x-python",
   "name": "python",
   "nbconvert_exporter": "python",
   "pygments_lexer": "ipython3",
   "version": "3.9.12"
  }
 },
 "nbformat": 4,
 "nbformat_minor": 5
}
